{
 "cells": [
  {
   "cell_type": "code",
   "execution_count": 13,
   "metadata": {},
   "outputs": [
    {
     "name": "stdout",
     "output_type": "stream",
     "text": [
      "Time: 4.354872941970825\n",
      "{'segments': [{'start': 0.1, 'end': 0.12, 'words': [{'start': 0.1, 'end': 0.12, 'word': '好', 'confidence': 0.7517993450164795}], 'text': '好，'}, {'start': 0.22, 'end': 6.34, 'words': [{'start': 0.22, 'end': 0.24, 'word': '被', 'confidence': 0.24829693138599396}, {'start': 0.38, 'end': 0.4, 'word': '撞', 'confidence': 0.8927783370018005}, {'start': 0.58, 'end': 0.6, 'word': '擊', 'confidence': 0.012735730968415737}, {'start': 0.7000000000000001, 'end': 0.72, 'word': '而', 'confidence': 0.8934522271156311}, {'start': 0.8, 'end': 0.8200000000000001, 'word': '不', 'confidence': 0.993539571762085}, {'start': 0.9, 'end': 0.92, 'word': '幸', 'confidence': 0.07984304428100586}, {'start': 1.1, 'end': 1.12, 'word': '身', 'confidence': 0.8610464334487915}, {'start': 1.26, 'end': 1.28, 'word': '亡', 'confidence': 0.01957651786506176}, {'start': 1.3800000000000001, 'end': 1.42, 'word': '的', 'confidence': 0.8767598867416382}, {'start': 1.52, 'end': 1.54, 'word': '蘇', 'confidence': 0.8805338740348816}, {'start': 1.7, 'end': 1.72, 'word': '姓', 'confidence': 0.007595713250339031}, {'start': 1.9000000000000001, 'end': 1.92, 'word': '員', 'confidence': 3.293205736554228e-05}, {'start': 2.12, 'end': 2.14, 'word': '警', 'confidence': 0.5938659310340881}, {'start': 2.2600000000000002, 'end': 2.2800000000000002, 'word': '他', 'confidence': 0.24104401469230652}, {'start': 2.38, 'end': 2.42, 'word': '們', 'confidence': 0.9626352787017822}, {'start': 2.44, 'end': 2.46, 'word': '的', 'confidence': 0.9844091534614563}, {'start': 2.6, 'end': 2.62, 'word': '家', 'confidence': 0.8629012703895569}, {'start': 2.92, 'end': 2.94, 'word': '屬', 'confidence': 0.9685664176940918}, {'start': 3.24, 'end': 3.2800000000000002, 'word': '下', 'confidence': 0.8342820405960083}, {'start': 3.5, 'end': 3.52, 'word': '午', 'confidence': 0.870509684085846}, {'start': 3.62, 'end': 3.64, 'word': '兩', 'confidence': 0.9837247133255005}, {'start': 3.88, 'end': 3.9, 'word': '點', 'confidence': 0.9991686344146729}, {'start': 4.08, 'end': 4.1, 'word': '來', 'confidence': 0.9992783665657043}, {'start': 4.24, 'end': 4.26, 'word': '到', 'confidence': 0.9976944327354431}, {'start': 4.36, 'end': 4.38, 'word': '了', 'confidence': 0.9996374249458313}, {'start': 4.5600000000000005, 'end': 4.58, 'word': '分', 'confidence': 0.9859756231307983}, {'start': 4.82, 'end': 4.84, 'word': '駐', 'confidence': 0.0025726957246661186}, {'start': 5.0600000000000005, 'end': 5.08, 'word': '所', 'confidence': 0.988758385181427}, {'start': 5.28, 'end': 5.3, 'word': '進', 'confidence': 0.9848384261131287}, {'start': 5.44, 'end': 5.48, 'word': '行', 'confidence': 0.9571075439453125}, {'start': 5.68, 'end': 5.7, 'word': '招', 'confidence': 0.7563586831092834}, {'start': 5.92, 'end': 5.94, 'word': '魂', 'confidence': 0.006018355488777161}, {'start': 6.1000000000000005, 'end': 6.12, 'word': '儀', 'confidence': 0.10724394768476486}, {'start': 6.32, 'end': 6.34, 'word': '式', 'confidence': 0.9630204439163208}], 'text': '被撞擊而不幸身亡的蘇姓員警他們的家屬下午兩點來到了分駐所進行招魂儀式；'}, {'start': 6.82, 'end': 9.38, 'words': [{'start': 6.82, 'end': 6.84, 'word': '同', 'confidence': 0.9263328313827515}, {'start': 7.0200000000000005, 'end': 7.04, 'word': '袍', 'confidence': 0.07205900549888611}, {'start': 7.2, 'end': 7.22, 'word': '也', 'confidence': 0.9995546936988831}, {'start': 7.3, 'end': 7.34, 'word': '在', 'confidence': 0.8113440275192261}, {'start': 7.44, 'end': 7.46, 'word': '門', 'confidence': 0.9985823035240173}, {'start': 7.6000000000000005, 'end': 7.62, 'word': '口', 'confidence': 0.9999286532402039}, {'start': 7.78, 'end': 7.8, 'word': '列', 'confidence': 0.31027305126190186}, {'start': 8.02, 'end': 8.040000000000001, 'word': '隊', 'confidence': 0.5098301768302917}, {'start': 8.16, 'end': 8.18, 'word': '要', 'confidence': 0.9851863980293274}, {'start': 8.36, 'end': 8.38, 'word': '送', 'confidence': 0.9957664012908936}, {'start': 8.540000000000001, 'end': 8.56, 'word': '他', 'confidence': 0.3774999678134918}, {'start': 8.86, 'end': 8.88, 'word': '最', 'confidence': 0.7263606190681458}, {'start': 9.06, 'end': 9.08, 'word': '後', 'confidence': 0.9995242953300476}, {'start': 9.22, 'end': 9.24, 'word': '一', 'confidence': 0.24997958540916443}, {'start': 9.36, 'end': 9.38, 'word': '程', 'confidence': 0.2550324499607086}], 'text': '同袍也在門口列隊要送他最後1程。'}, {'start': 9.88, 'end': 11.82, 'words': [{'start': 9.88, 'end': 9.9, 'word': '詳', 'confidence': 0.002986207138746977}, {'start': 10.040000000000001, 'end': 10.06, 'word': '細', 'confidence': 0.25127097964286804}, {'start': 10.16, 'end': 10.18, 'word': '情', 'confidence': 0.9941716194152832}, {'start': 10.28, 'end': 10.3, 'word': '況', 'confidence': 0.9997202157974243}, {'start': 10.4, 'end': 10.42, 'word': '連', 'confidence': 0.7676986455917358}, {'start': 10.540000000000001, 'end': 10.56, 'word': '線', 'confidence': 0.04547819122672081}, {'start': 10.64, 'end': 10.66, 'word': '給', 'confidence': 0.17749625444412231}, {'start': 10.76, 'end': 10.78, 'word': '記', 'confidence': 0.9834440350532532}, {'start': 10.88, 'end': 10.9, 'word': '者', 'confidence': 0.7387897968292236}, {'start': 11.02, 'end': 11.040000000000001, 'word': '林', 'confidence': 0.10052128881216049}, {'start': 11.200000000000001, 'end': 11.22, 'word': '合', 'confidence': 0.9679539799690247}, {'start': 11.38, 'end': 11.4, 'word': '蓉', 'confidence': 0.09497572481632233}, {'start': 11.68, 'end': 11.700000000000001, 'word': '何', 'confidence': 0.0012968424707651138}, {'start': 11.8, 'end': 11.82, 'word': '榮', 'confidence': 0.4794522523880005}], 'text': '詳細情況連線給記者林合蓉、何榮。'}, {'start': 12.98, 'end': 18.44, 'words': [{'start': 12.98, 'end': 13.0, 'word': '帶', 'confidence': 0.667784571647644}, {'start': 13.14, 'end': 13.16, 'word': '您', 'confidence': 0.003491737646982074}, {'start': 13.280000000000001, 'end': 13.3, 'word': '來', 'confidence': 0.9996291995048523}, {'start': 13.48, 'end': 13.5, 'word': '關', 'confidence': 0.8840426206588745}, {'start': 13.74, 'end': 13.76, 'word': '注', 'confidence': 0.9966514110565186}, {'start': 14.06, 'end': 14.08, 'word': '這', 'confidence': 0.9956477880477905}, {'start': 14.34, 'end': 14.36, 'word': '起', 'confidence': 0.46207430958747864}, {'start': 14.58, 'end': 14.6, 'word': '嫌', 'confidence': 0.026024583727121353}, {'start': 14.8, 'end': 14.82, 'word': '犯', 'confidence': 0.0034166888799518347}, {'start': 15.040000000000001, 'end': 15.06, 'word': '開', 'confidence': 0.9853666424751282}, {'start': 15.36, 'end': 15.38, 'word': '髒', 'confidence': 0.008470123633742332}, {'start': 15.56, 'end': 15.58, 'word': '車', 'confidence': 0.9997787475585938}, {'start': 15.82, 'end': 15.84, 'word': '撞', 'confidence': 0.5341764092445374}, {'start': 16.080000000000002, 'end': 16.1, 'word': '死', 'confidence': 0.0013586048735305667}, {'start': 16.34, 'end': 16.36, 'word': '巡', 'confidence': 0.6233943700790405}, {'start': 16.54, 'end': 16.56, 'word': '路', 'confidence': 0.0728113055229187}, {'start': 16.7, 'end': 16.72, 'word': '員', 'confidence': 3.0728799174539745e-05}, {'start': 16.9, 'end': 16.92, 'word': '和', 'confidence': 0.817861020565033}, {'start': 17.080000000000002, 'end': 17.1, 'word': '員', 'confidence': 1.590269857842941e-05}, {'start': 17.3, 'end': 17.32, 'word': '警', 'confidence': 0.39431214332580566}, {'start': 17.46, 'end': 17.48, 'word': '的', 'confidence': 0.9938556551933289}, {'start': 17.84, 'end': 17.86, 'word': '悲', 'confidence': 0.387201726436615}, {'start': 18.04, 'end': 18.06, 'word': '劇', 'confidence': 0.3278566300868988}, {'start': 18.22, 'end': 18.240000000000002, 'word': '事', 'confidence': 0.0037981572095304728}, {'start': 18.400000000000002, 'end': 18.44, 'word': '件', 'confidence': 0.1107209101319313}], 'text': '帶您來關注這起嫌犯開髒車撞死巡路員和員警的悲劇事件！'}, {'start': 18.86, 'end': 21.34, 'words': [{'start': 18.86, 'end': 18.88, 'word': '就', 'confidence': 0.998448371887207}, {'start': 19.0, 'end': 19.02, 'word': '在', 'confidence': 0.9988384246826172}, {'start': 19.240000000000002, 'end': 19.26, 'word': '今', 'confidence': 0.9783674478530884}, {'start': 19.48, 'end': 19.5, 'word': '天', 'confidence': 0.9848606586456299}, {'start': 19.76, 'end': 19.78, 'word': '下', 'confidence': 0.06171824038028717}, {'start': 19.94, 'end': 19.96, 'word': '午', 'confidence': 0.853373110294342}, {'start': 20.1, 'end': 20.12, 'word': '的', 'confidence': 0.996276319026947}, {'start': 20.34, 'end': 20.36, 'word': '兩', 'confidence': 0.9699176549911499}, {'start': 20.7, 'end': 20.72, 'word': '點', 'confidence': 0.9940133094787598}, {'start': 21.02, 'end': 21.04, 'word': '訊', 'confidence': 0.3085026443004608}, {'start': 21.32, 'end': 21.34, 'word': '息', 'confidence': 0.00019850781245622784}], 'text': '就在今天下午的兩點訊息；'}, {'start': 21.580000000000002, 'end': 26.060000000000002, 'words': [{'start': 21.580000000000002, 'end': 21.6, 'word': '員', 'confidence': 1.0802655197039712e-05}, {'start': 21.82, 'end': 21.86, 'word': '警', 'confidence': 0.16511455178260803}, {'start': 21.98, 'end': 22.0, 'word': '的', 'confidence': 0.9920125007629395}, {'start': 22.12, 'end': 22.14, 'word': '家', 'confidence': 0.8051310181617737}, {'start': 22.42, 'end': 22.44, 'word': '屬', 'confidence': 0.1865536868572235}, {'start': 22.7, 'end': 22.72, 'word': '也', 'confidence': 0.9992983341217041}, {'start': 22.92, 'end': 22.94, 'word': '來', 'confidence': 0.9994468688964844}, {'start': 23.14, 'end': 23.16, 'word': '到', 'confidence': 0.9926010370254517}, {'start': 23.42, 'end': 23.44, 'word': '八', 'confidence': 0.8677855134010315}, {'start': 23.740000000000002, 'end': 23.76, 'word': '堵', 'confidence': 0.032236576080322266}, {'start': 23.96, 'end': 23.98, 'word': '的', 'confidence': 0.9855248332023621}, {'start': 24.18, 'end': 24.2, 'word': '分', 'confidence': 0.9803305268287659}, {'start': 24.44, 'end': 24.46, 'word': '駐', 'confidence': 0.0008654868579469621}, {'start': 24.7, 'end': 24.72, 'word': '所', 'confidence': 0.9985346794128418}, {'start': 24.94, 'end': 24.96, 'word': '進', 'confidence': 0.9797780513763428}, {'start': 25.16, 'end': 25.18, 'word': '行', 'confidence': 0.9447022080421448}, {'start': 25.44, 'end': 25.46, 'word': '招', 'confidence': 0.6223903894424438}, {'start': 25.68, 'end': 25.7, 'word': '魂', 'confidence': 0.05737720802426338}, {'start': 25.86, 'end': 25.88, 'word': '儀', 'confidence': 0.007828046567738056}, {'start': 26.02, 'end': 26.060000000000002, 'word': '式', 'confidence': 0.476321280002594}], 'text': '員警的家屬也來到8堵的分駐所進行招魂儀式，'}, {'start': 26.54, 'end': 29.88, 'words': [{'start': 26.54, 'end': 26.560000000000002, 'word': '可', 'confidence': 0.0030712494626641273}, {'start': 26.64, 'end': 26.66, 'word': '以', 'confidence': 0.00026562446146272123}, {'start': 26.740000000000002, 'end': 26.76, 'word': '看', 'confidence': 0.9980061650276184}, {'start': 26.98, 'end': 27.0, 'word': '到', 'confidence': 0.9987121820449829}, {'start': 27.18, 'end': 27.2, 'word': '門', 'confidence': 0.9969089031219482}, {'start': 27.46, 'end': 27.48, 'word': '口', 'confidence': 0.12288426607847214}, {'start': 27.76, 'end': 27.78, 'word': '兩', 'confidence': 0.8783186078071594}, {'start': 28.400000000000002, 'end': 28.42, 'word': '兩', 'confidence': 0.9954386949539185}, {'start': 28.64, 'end': 28.66, 'word': '排', 'confidence': 0.2666403353214264}, {'start': 28.92, 'end': 28.94, 'word': '行', 'confidence': 0.0018376534571871161}, {'start': 29.18, 'end': 29.2, 'word': '員', 'confidence': 1.8976028286488145e-06}, {'start': 29.5, 'end': 29.52, 'word': '警', 'confidence': 0.004845368675887585}, {'start': 29.7, 'end': 29.72, 'word': '呢', 'confidence': 0.04365424066781998}, {'start': 29.86, 'end': 29.88, 'word': '都', 'confidence': 0.9961153268814087}], 'text': '可以看到門口兩兩排行員警呢都，'}]}\n"
     ]
    }
   ],
   "source": [
    "import base64\n",
    "import requests\n",
    "import time\n",
    "\n",
    "def transcribe(audioStr):\n",
    "    try:\n",
    "        messages = [\n",
    "            {\n",
    "                \"role\": \"system\",\n",
    "                \"content\": \"You are a professional AI assistant specializing in ASR\"\n",
    "            },\n",
    "            {\n",
    "                \"role\": \"user\",\n",
    "                \"content\": [\n",
    "                    { \"type\": \"audio_url\", \"audio_url\": { \"url\": audioStr } },\n",
    "                    { \"type\": \"text\", \"text\": \"轉寫中文文本\" }\n",
    "                ]\n",
    "            }\n",
    "        ]\n",
    "\n",
    "        # 请将以下 URL 替换为实际的 API 端点\n",
    "        url = 'http://203.145.216.172:51915/speech2text'\n",
    "\n",
    "        headers = {\n",
    "            'Content-Type': 'application/json'\n",
    "            # 如需身份验证，请在此处添加 'Authorization' 字段\n",
    "        }\n",
    "\n",
    "        payload = {\n",
    "            'model': 'qwen2-audio-7b-instruct',\n",
    "            'max_tokens': 256,\n",
    "            'temperature': 0.001,\n",
    "            'messages': messages\n",
    "        }\n",
    "\n",
    "        response = requests.post(url, headers=headers, json=payload)\n",
    "\n",
    "        if not response.ok:\n",
    "            raise Exception(f\"HTTP error! status: {response.status_code}\")\n",
    "\n",
    "        data = response.json()\n",
    "\n",
    "        return data\n",
    "\n",
    "    except Exception as error:\n",
    "        print('Error:', error)\n",
    "        raise error\n",
    "\n",
    "audio_path = '/Users/jon/Desktop/sample.mp3'\n",
    "\n",
    "# 读取 MP3 文件的二进制数据\n",
    "with open(audio_path, 'rb') as file:\n",
    "        binary_data = file.read()\n",
    "# 将二进制数据转换为 base64 编码的字符串\n",
    "base64_encoded_data = base64.b64encode(binary_data).decode('utf-8')\n",
    "data_uri = f'data:audio/mp3;base64,{base64_encoded_data}'\n",
    "start_time = time.time()\n",
    "segments = transcribe(data_uri)\n",
    "print('Time:', time.time() - start_time)\n",
    "print(segments)"
   ]
  }
 ],
 "metadata": {
  "kernelspec": {
   "display_name": "base",
   "language": "python",
   "name": "python3"
  },
  "language_info": {
   "codemirror_mode": {
    "name": "ipython",
    "version": 3
   },
   "file_extension": ".py",
   "mimetype": "text/x-python",
   "name": "python",
   "nbconvert_exporter": "python",
   "pygments_lexer": "ipython3",
   "version": "3.12.7"
  }
 },
 "nbformat": 4,
 "nbformat_minor": 2
}
