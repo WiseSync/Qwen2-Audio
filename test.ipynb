{
 "cells": [
  {
   "cell_type": "code",
   "execution_count": null,
   "metadata": {},
   "outputs": [
    {
     "name": "stdout",
     "output_type": "stream",
     "text": [
      "{'segments': [{'start': 0.1, 'end': 9.38, 'words': [{'start': 0.1, 'end': 0.12, 'word': '好', 'confidence': 0.7518019676208496}, {'start': 0.22, 'end': 0.24, 'word': '被', 'confidence': 0.24829372763633728}, {'start': 0.38, 'end': 0.4, 'word': '撞', 'confidence': 0.8927834033966064}, {'start': 0.58, 'end': 0.6, 'word': '擊', 'confidence': 0.012735895812511444}, {'start': 0.7000000000000001, 'end': 0.72, 'word': '而', 'confidence': 0.8934530019760132}, {'start': 0.8, 'end': 0.8200000000000001, 'word': '不', 'confidence': 0.9935423135757446}, {'start': 0.9, 'end': 0.92, 'word': '幸', 'confidence': 0.07984600961208344}, {'start': 1.1, 'end': 1.12, 'word': '身', 'confidence': 0.8610385060310364}, {'start': 1.26, 'end': 1.28, 'word': '亡', 'confidence': 0.01957605592906475}, {'start': 1.3800000000000001, 'end': 1.42, 'word': '的', 'confidence': 0.8767673969268799}, {'start': 1.52, 'end': 1.54, 'word': '蘇', 'confidence': 0.8805347681045532}, {'start': 1.7, 'end': 1.72, 'word': '姓', 'confidence': 0.007595390547066927}, {'start': 1.9000000000000001, 'end': 1.92, 'word': '員', 'confidence': 3.2931209716480225e-05}, {'start': 2.12, 'end': 2.14, 'word': '警', 'confidence': 0.5938714742660522}, {'start': 2.2600000000000002, 'end': 2.2800000000000002, 'word': '他', 'confidence': 0.24104420840740204}, {'start': 2.38, 'end': 2.42, 'word': '們', 'confidence': 0.9626312255859375}, {'start': 2.44, 'end': 2.46, 'word': '的', 'confidence': 0.9844104051589966}, {'start': 2.6, 'end': 2.62, 'word': '家', 'confidence': 0.8629016876220703}, {'start': 2.92, 'end': 2.94, 'word': '屬', 'confidence': 0.968569815158844}, {'start': 3.24, 'end': 3.2800000000000002, 'word': '下', 'confidence': 0.8343132138252258}, {'start': 3.5, 'end': 3.52, 'word': '午', 'confidence': 0.870513379573822}, {'start': 3.62, 'end': 3.64, 'word': '兩', 'confidence': 0.9837263226509094}, {'start': 3.88, 'end': 3.9, 'word': '點', 'confidence': 0.999169111251831}, {'start': 4.08, 'end': 4.1, 'word': '來', 'confidence': 0.9992789626121521}, {'start': 4.24, 'end': 4.26, 'word': '到', 'confidence': 0.9976949095726013}, {'start': 4.36, 'end': 4.38, 'word': '了', 'confidence': 0.9996376037597656}, {'start': 4.5600000000000005, 'end': 4.58, 'word': '分', 'confidence': 0.9859791398048401}, {'start': 4.82, 'end': 4.84, 'word': '駐', 'confidence': 0.002572741126641631}, {'start': 5.0600000000000005, 'end': 5.08, 'word': '所', 'confidence': 0.9887592792510986}, {'start': 5.28, 'end': 5.3, 'word': '進', 'confidence': 0.9848384857177734}, {'start': 5.44, 'end': 5.48, 'word': '行', 'confidence': 0.9571086168289185}, {'start': 5.68, 'end': 5.7, 'word': '招', 'confidence': 0.7563551068305969}, {'start': 5.92, 'end': 5.94, 'word': '魂', 'confidence': 0.006018547341227531}, {'start': 6.1000000000000005, 'end': 6.12, 'word': '儀', 'confidence': 0.10724574327468872}, {'start': 6.32, 'end': 6.34, 'word': '式', 'confidence': 0.963022768497467}, {'start': 6.82, 'end': 6.84, 'word': '同', 'confidence': 0.9263331294059753}, {'start': 7.0200000000000005, 'end': 7.04, 'word': '袍', 'confidence': 0.07206004858016968}, {'start': 7.2, 'end': 7.22, 'word': '也', 'confidence': 0.9995552897453308}, {'start': 7.3, 'end': 7.34, 'word': '在', 'confidence': 0.811329185962677}, {'start': 7.44, 'end': 7.46, 'word': '門', 'confidence': 0.9985823631286621}, {'start': 7.6000000000000005, 'end': 7.62, 'word': '口', 'confidence': 0.9999287128448486}, {'start': 7.78, 'end': 7.8, 'word': '列', 'confidence': 0.3102814555168152}, {'start': 8.02, 'end': 8.040000000000001, 'word': '隊', 'confidence': 0.5098201036453247}, {'start': 8.16, 'end': 8.18, 'word': '要', 'confidence': 0.9851860404014587}, {'start': 8.36, 'end': 8.38, 'word': '送', 'confidence': 0.9957664012908936}, {'start': 8.540000000000001, 'end': 8.56, 'word': '他', 'confidence': 0.37749969959259033}, {'start': 8.86, 'end': 8.88, 'word': '最', 'confidence': 0.7263636589050293}, {'start': 9.06, 'end': 9.08, 'word': '後', 'confidence': 0.9995250701904297}, {'start': 9.22, 'end': 9.24, 'word': '一', 'confidence': 0.24997365474700928}, {'start': 9.36, 'end': 9.38, 'word': '程', 'confidence': 0.25502684712409973}], 'text': '好，被撞擊而不幸身亡的蘇姓員警他們的家屬下午兩點來到了分駐所進行招魂儀式；同袍也在門口列隊要送他最後1程。'}, {'start': 9.88, 'end': 11.82, 'words': [{'start': 9.88, 'end': 9.9, 'word': '詳', 'confidence': 0.002986121689900756}, {'start': 10.040000000000001, 'end': 10.06, 'word': '細', 'confidence': 0.2512724697589874}, {'start': 10.16, 'end': 10.18, 'word': '情', 'confidence': 0.9941739439964294}, {'start': 10.28, 'end': 10.3, 'word': '況', 'confidence': 0.999721109867096}, {'start': 10.4, 'end': 10.42, 'word': '連', 'confidence': 0.7677021622657776}, {'start': 10.540000000000001, 'end': 10.56, 'word': '線', 'confidence': 0.04547814279794693}, {'start': 10.64, 'end': 10.66, 'word': '給', 'confidence': 0.17748604714870453}, {'start': 10.76, 'end': 10.78, 'word': '記', 'confidence': 0.9834445714950562}, {'start': 10.88, 'end': 10.9, 'word': '者', 'confidence': 0.7388023138046265}, {'start': 11.02, 'end': 11.040000000000001, 'word': '林', 'confidence': 0.1005183681845665}, {'start': 11.200000000000001, 'end': 11.22, 'word': '合', 'confidence': 0.9679561257362366}, {'start': 11.38, 'end': 11.4, 'word': '蓉', 'confidence': 0.09497585147619247}, {'start': 11.68, 'end': 11.700000000000001, 'word': '何', 'confidence': 0.0012968480587005615}, {'start': 11.8, 'end': 11.82, 'word': '榮', 'confidence': 0.4794529676437378}], 'text': '詳細情況連線給記者林合蓉、何榮。'}, {'start': 12.98, 'end': 18.44, 'words': [{'start': 12.98, 'end': 13.0, 'word': '帶', 'confidence': 0.6677880883216858}, {'start': 13.14, 'end': 13.16, 'word': '您', 'confidence': 0.003491715993732214}, {'start': 13.280000000000001, 'end': 13.3, 'word': '來', 'confidence': 0.9996293783187866}, {'start': 13.48, 'end': 13.5, 'word': '關', 'confidence': 0.8840427398681641}, {'start': 13.74, 'end': 13.76, 'word': '注', 'confidence': 0.9966526627540588}, {'start': 14.06, 'end': 14.08, 'word': '這', 'confidence': 0.9956483244895935}, {'start': 14.34, 'end': 14.36, 'word': '起', 'confidence': 0.4620843827724457}, {'start': 14.58, 'end': 14.6, 'word': '嫌', 'confidence': 0.026024090126156807}, {'start': 14.8, 'end': 14.82, 'word': '犯', 'confidence': 0.0034167165867984295}, {'start': 15.040000000000001, 'end': 15.06, 'word': '開', 'confidence': 0.9853668212890625}, {'start': 15.36, 'end': 15.38, 'word': '髒', 'confidence': 0.00846974365413189}, {'start': 15.56, 'end': 15.58, 'word': '車', 'confidence': 0.9997788071632385}, {'start': 15.82, 'end': 15.84, 'word': '撞', 'confidence': 0.5341783165931702}, {'start': 16.080000000000002, 'end': 16.1, 'word': '死', 'confidence': 0.0013586328132078052}, {'start': 16.34, 'end': 16.36, 'word': '巡', 'confidence': 0.623392641544342}, {'start': 16.54, 'end': 16.56, 'word': '路', 'confidence': 0.07281479984521866}, {'start': 16.7, 'end': 16.72, 'word': '員', 'confidence': 3.0729061109013855e-05}, {'start': 16.9, 'end': 16.92, 'word': '和', 'confidence': 0.8178606033325195}, {'start': 17.080000000000002, 'end': 17.1, 'word': '員', 'confidence': 1.5902076484053396e-05}, {'start': 17.3, 'end': 17.32, 'word': '警', 'confidence': 0.39430704712867737}, {'start': 17.46, 'end': 17.48, 'word': '的', 'confidence': 0.9938556551933289}, {'start': 17.84, 'end': 17.86, 'word': '悲', 'confidence': 0.3871985971927643}, {'start': 18.04, 'end': 18.06, 'word': '劇', 'confidence': 0.32785120606422424}, {'start': 18.22, 'end': 18.240000000000002, 'word': '事', 'confidence': 0.0037982293870300055}, {'start': 18.400000000000002, 'end': 18.44, 'word': '件', 'confidence': 0.11072202771902084}], 'text': '帶您來關注這起嫌犯開髒車撞死巡路員和員警的悲劇事件！'}, {'start': 18.86, 'end': 29.88, 'words': [{'start': 18.86, 'end': 18.88, 'word': '就', 'confidence': 0.998449444770813}, {'start': 19.0, 'end': 19.02, 'word': '在', 'confidence': 0.9988391995429993}, {'start': 19.240000000000002, 'end': 19.26, 'word': '今', 'confidence': 0.9783691167831421}, {'start': 19.48, 'end': 19.5, 'word': '天', 'confidence': 0.9848614931106567}, {'start': 19.76, 'end': 19.78, 'word': '下', 'confidence': 0.061717163771390915}, {'start': 19.94, 'end': 19.96, 'word': '午', 'confidence': 0.8533799648284912}, {'start': 20.1, 'end': 20.12, 'word': '的', 'confidence': 0.9962765574455261}, {'start': 20.34, 'end': 20.36, 'word': '兩', 'confidence': 0.969921350479126}, {'start': 20.7, 'end': 20.72, 'word': '點', 'confidence': 0.994014322757721}, {'start': 21.02, 'end': 21.04, 'word': '訊', 'confidence': 0.30851271748542786}, {'start': 21.32, 'end': 21.34, 'word': '息', 'confidence': 0.00019850631360895932}, {'start': 21.580000000000002, 'end': 21.6, 'word': '員', 'confidence': 1.0802789802255575e-05}, {'start': 21.82, 'end': 21.86, 'word': '警', 'confidence': 0.16510875523090363}, {'start': 21.98, 'end': 22.0, 'word': '的', 'confidence': 0.9920130372047424}, {'start': 22.12, 'end': 22.14, 'word': '家', 'confidence': 0.805128812789917}, {'start': 22.42, 'end': 22.44, 'word': '屬', 'confidence': 0.18654802441596985}, {'start': 22.7, 'end': 22.72, 'word': '也', 'confidence': 0.9992995262145996}, {'start': 22.92, 'end': 22.94, 'word': '來', 'confidence': 0.9994474053382874}, {'start': 23.14, 'end': 23.16, 'word': '到', 'confidence': 0.9926022887229919}, {'start': 23.42, 'end': 23.44, 'word': '八', 'confidence': 0.8677871823310852}, {'start': 23.740000000000002, 'end': 23.76, 'word': '堵', 'confidence': 0.03223609924316406}, {'start': 23.96, 'end': 23.98, 'word': '的', 'confidence': 0.9855250716209412}, {'start': 24.18, 'end': 24.2, 'word': '分', 'confidence': 0.9803335070610046}, {'start': 24.44, 'end': 24.46, 'word': '駐', 'confidence': 0.0008654773118905723}, {'start': 24.7, 'end': 24.72, 'word': '所', 'confidence': 0.9985346794128418}, {'start': 24.94, 'end': 24.96, 'word': '進', 'confidence': 0.9797779321670532}, {'start': 25.16, 'end': 25.18, 'word': '行', 'confidence': 0.9447022080421448}, {'start': 25.44, 'end': 25.46, 'word': '招', 'confidence': 0.6223871111869812}, {'start': 25.68, 'end': 25.7, 'word': '魂', 'confidence': 0.057377226650714874}, {'start': 25.86, 'end': 25.88, 'word': '儀', 'confidence': 0.007828486151993275}, {'start': 26.02, 'end': 26.060000000000002, 'word': '式', 'confidence': 0.4762706458568573}, {'start': 26.54, 'end': 26.560000000000002, 'word': '可', 'confidence': 0.003071277402341366}, {'start': 26.64, 'end': 26.66, 'word': '以', 'confidence': 0.0002656457363627851}, {'start': 26.740000000000002, 'end': 26.76, 'word': '看', 'confidence': 0.9980064034461975}, {'start': 26.98, 'end': 27.0, 'word': '到', 'confidence': 0.9987128973007202}, {'start': 27.18, 'end': 27.2, 'word': '門', 'confidence': 0.9969090819358826}, {'start': 27.46, 'end': 27.48, 'word': '口', 'confidence': 0.12288308888673782}, {'start': 27.76, 'end': 27.78, 'word': '兩', 'confidence': 0.8783215880393982}, {'start': 28.400000000000002, 'end': 28.42, 'word': '兩', 'confidence': 0.9954401254653931}, {'start': 28.64, 'end': 28.66, 'word': '排', 'confidence': 0.2666402757167816}, {'start': 28.92, 'end': 28.94, 'word': '行', 'confidence': 0.001837605144828558}, {'start': 29.18, 'end': 29.2, 'word': '員', 'confidence': 1.897608285617025e-06}, {'start': 29.5, 'end': 29.52, 'word': '警', 'confidence': 0.004845470190048218}, {'start': 29.7, 'end': 29.72, 'word': '呢', 'confidence': 0.043653570115566254}, {'start': 29.86, 'end': 29.88, 'word': '都', 'confidence': 0.9961152076721191}], 'text': '就在今天下午的兩點訊息；員警的家屬也來到8堵的分駐所進行招魂儀式，可以看到門口兩兩排行員警呢都，'}]}\n"
     ]
    }
   ],
   "source": [
    "import base64\n",
    "import requests\n",
    "import time\n",
    "\n",
    "def transcribe(audioStr):\n",
    "    try:\n",
    "        messages = [\n",
    "            {\n",
    "                \"role\": \"system\",\n",
    "                \"content\": \"You are a professional AI assistant specializing in ASR\"\n",
    "            },\n",
    "            {\n",
    "                \"role\": \"user\",\n",
    "                \"content\": [\n",
    "                    { \"type\": \"audio_url\", \"audio_url\": { \"url\": audioStr } },\n",
    "                    { \"type\": \"text\", \"text\": \"轉寫中文文本\" }\n",
    "                ]\n",
    "            }\n",
    "        ]\n",
    "\n",
    "        # 请将以下 URL 替换为实际的 API 端点\n",
    "        url = 'http://localhost:8000/speech2text'\n",
    "\n",
    "        headers = {\n",
    "            'Content-Type': 'application/json'\n",
    "            # 如需身份验证，请在此处添加 'Authorization' 字段\n",
    "        }\n",
    "\n",
    "        payload = {\n",
    "            'model': 'qwen2-audio-7b-instruct',\n",
    "            'max_tokens': 256,\n",
    "            'temperature': 0.001,\n",
    "            'messages': messages\n",
    "        }\n",
    "\n",
    "        response = requests.post(url, headers=headers, json=payload)\n",
    "\n",
    "        if not response.ok:\n",
    "            raise Exception(f\"HTTP error! status: {response.status_code}\")\n",
    "\n",
    "        data = response.json()\n",
    "\n",
    "        return data\n",
    "\n",
    "    except Exception as error:\n",
    "        print('Error:', error)\n",
    "        raise error\n",
    "\n",
    "audio_path = '/Users/jon/Desktop/sample.mp3'\n",
    "\n",
    "# 读取 MP3 文件的二进制数据\n",
    "with open(audio_path, 'rb') as file:\n",
    "        binary_data = file.read()\n",
    "# 将二进制数据转换为 base64 编码的字符串\n",
    "base64_encoded_data = base64.b64encode(binary_data).decode('utf-8')\n",
    "data_uri = f'data:audio/mp3;base64,{base64_encoded_data}'\n",
    "start_time = time.time()\n",
    "segments = transcribe(data_uri)\n",
    "print('Time:', time.time() - start_time)\n",
    "print(segments)"
   ]
  }
 ],
 "metadata": {
  "kernelspec": {
   "display_name": "base",
   "language": "python",
   "name": "python3"
  },
  "language_info": {
   "codemirror_mode": {
    "name": "ipython",
    "version": 3
   },
   "file_extension": ".py",
   "mimetype": "text/x-python",
   "name": "python",
   "nbconvert_exporter": "python",
   "pygments_lexer": "ipython3",
   "version": "3.12.7"
  }
 },
 "nbformat": 4,
 "nbformat_minor": 2
}
