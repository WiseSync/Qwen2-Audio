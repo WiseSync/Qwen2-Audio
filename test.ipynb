{
 "cells": [
  {
   "cell_type": "code",
   "execution_count": null,
   "metadata": {},
   "outputs": [
    {
     "name": "stdout",
     "output_type": "stream",
     "text": [
      "{'segments': [{'start': 0.02, 'end': 11.22, 'words': [{'start': 0.02, 'end': 0.04, 'word': '是'}, {'start': 0.06, 'end': 0.08, 'word': '這'}, {'start': 0.08, 'end': 0.1, 'word': '樣'}, {'start': 0.26, 'end': 0.28, 'word': '的'}, {'start': 0.4, 'end': 0.42, 'word': '速'}, {'start': 0.56, 'end': 0.58, 'word': '度'}, {'start': 0.72, 'end': 0.74, 'word': '可'}, {'start': 0.84, 'end': 0.86, 'word': '是'}, {'start': 0.92, 'end': 0.9400000000000001, 'word': '如'}, {'start': 0.9400000000000001, 'end': 0.96, 'word': '果'}, {'start': 1.16, 'end': 1.18, 'word': '這'}, {'start': 1.28, 'end': 1.3, 'word': '麼'}, {'start': 1.58, 'end': 1.6, 'word': '大'}, {'start': 1.92, 'end': 1.94, 'word': '的'}, {'start': 2.1, 'end': 2.12, 'word': '容'}, {'start': 2.32, 'end': 2.34, 'word': '量'}, {'start': 2.6, 'end': 2.62, 'word': '使'}, {'start': 3.16, 'end': 3.18, 'word': '用'}, {'start': 3.36, 'end': 3.38, 'word': '使'}, {'start': 3.52, 'end': 3.54, 'word': '用'}, {'start': 4.0200000000000005, 'end': 4.04, 'word': '啊'}, {'start': 4.28, 'end': 4.3, 'word': '我'}, {'start': 4.34, 'end': 4.36, 'word': '們'}, {'start': 4.48, 'end': 4.5, 'word': '現'}, {'start': 4.6000000000000005, 'end': 4.62, 'word': '在'}, {'start': 4.68, 'end': 4.7, 'word': '就'}, {'start': 4.84, 'end': 4.86, 'word': '是'}, {'start': 5.12, 'end': 5.14, 'word': '我'}, {'start': 5.18, 'end': 5.2, 'word': '們'}, {'start': 5.3, 'end': 5.32, 'word': '預'}, {'start': 5.46, 'end': 5.48, 'word': '計'}, {'start': 5.5600000000000005, 'end': 5.58, 'word': '會'}, {'start': 5.7, 'end': 5.72, 'word': '把'}, {'start': 5.82, 'end': 5.84, 'word': '它'}, {'start': 5.88, 'end': 5.9, 'word': '放'}, {'start': 6.04, 'end': 6.0600000000000005, 'word': '在'}, {'start': 6.26, 'end': 6.28, 'word': '雲'}, {'start': 6.4, 'end': 6.42, 'word': '端'}, {'start': 6.5600000000000005, 'end': 6.58, 'word': '上'}, {'start': 6.7, 'end': 6.72, 'word': '面'}, {'start': 7.04, 'end': 7.0600000000000005, 'word': '跑'}, {'start': 7.84, 'end': 7.86, 'word': '那'}, {'start': 8.18, 'end': 8.2, 'word': '那'}, {'start': 8.38, 'end': 8.4, 'word': '我'}, {'start': 8.46, 'end': 8.48, 'word': '們'}, {'start': 8.620000000000001, 'end': 8.64, 'word': '雲'}, {'start': 8.8, 'end': 8.82, 'word': '端'}, {'start': 8.98, 'end': 9.0, 'word': '的'}, {'start': 9.36, 'end': 9.38, 'word': '就'}, {'start': 9.46, 'end': 9.48, 'word': '是'}, {'start': 9.56, 'end': 9.58, 'word': '用'}, {'start': 9.74, 'end': 9.76, 'word': '亞'}, {'start': 9.86, 'end': 9.88, 'word': '馬'}, {'start': 10.040000000000001, 'end': 10.06, 'word': '遜'}, {'start': 10.18, 'end': 10.200000000000001, 'word': '的'}, {'start': 10.26, 'end': 10.28, 'word': '雲'}, {'start': 10.38, 'end': 10.4, 'word': '端'}, {'start': 10.58, 'end': 10.6, 'word': '服'}, {'start': 10.78, 'end': 10.8, 'word': '務'}, {'start': 11.200000000000001, 'end': 11.22, 'word': '那'}]}, {'start': 11.32, 'end': 13.14, 'words': [{'start': 11.32, 'end': 11.34, 'word': '基'}, {'start': 11.4, 'end': 11.42, 'word': '本'}, {'start': 11.5, 'end': 11.52, 'word': '上'}, {'start': 11.68, 'end': 11.700000000000001, 'word': '是'}, {'start': 11.9, 'end': 11.92, 'word': '多'}, {'start': 12.0, 'end': 12.02, 'word': '少'}, {'start': 12.16, 'end': 12.18, 'word': '流'}, {'start': 12.280000000000001, 'end': 12.3, 'word': '量'}, {'start': 12.5, 'end': 12.52, 'word': '開'}, {'start': 12.66, 'end': 12.68, 'word': '多'}, {'start': 12.780000000000001, 'end': 12.8, 'word': '少'}, {'start': 12.94, 'end': 12.96, 'word': '機'}, {'start': 13.120000000000001, 'end': 13.14, 'word': '器'}]}, {'start': 14.200000000000001, 'end': 14.22, 'words': [{'start': 14.200000000000001, 'end': 14.22, 'word': '對'}]}, {'start': 15.64, 'end': 23.38, 'words': [{'start': 15.64, 'end': 15.66, 'word': '我'}, {'start': 15.96, 'end': 15.98, 'word': '我'}, {'start': 16.0, 'end': 16.02, 'word': '們'}, {'start': 16.18, 'end': 16.2, 'word': '現'}, {'start': 17.06, 'end': 17.080000000000002, 'word': '在'}, {'start': 17.14, 'end': 17.16, 'word': '在'}, {'start': 17.240000000000002, 'end': 17.26, 'word': '亞'}, {'start': 17.36, 'end': 17.38, 'word': '馬'}, {'start': 17.52, 'end': 17.54, 'word': '遜'}, {'start': 17.8, 'end': 17.82, 'word': '估'}, {'start': 17.96, 'end': 17.98, 'word': '計'}, {'start': 18.1, 'end': 18.12, 'word': '可'}, {'start': 18.2, 'end': 18.22, 'word': '能'}, {'start': 18.580000000000002, 'end': 18.6, 'word': '一'}, {'start': 18.68, 'end': 18.7, 'word': '小'}, {'start': 18.96, 'end': 18.98, 'word': '時'}, {'start': 19.18, 'end': 19.2, 'word': '的'}, {'start': 19.6, 'end': 19.62, 'word': '成'}, {'start': 19.8, 'end': 19.82, 'word': '本'}, {'start': 19.94, 'end': 19.96, 'word': '大'}, {'start': 20.06, 'end': 20.080000000000002, 'word': '概'}, {'start': 20.28, 'end': 20.3, 'word': '是'}, {'start': 21.52, 'end': 21.54, 'word': '最'}, {'start': 21.68, 'end': 21.7, 'word': '低'}, {'start': 21.8, 'end': 21.82, 'word': '應'}, {'start': 21.92, 'end': 21.94, 'word': '該'}, {'start': 22.080000000000002, 'end': 22.1, 'word': '可'}, {'start': 22.16, 'end': 22.18, 'word': '以'}, {'start': 22.22, 'end': 22.240000000000002, 'word': '控'}, {'start': 22.34, 'end': 22.36, 'word': '制'}, {'start': 22.400000000000002, 'end': 22.42, 'word': '在'}, {'start': 22.64, 'end': 22.66, 'word': '十'}, {'start': 22.78, 'end': 22.8, 'word': '五'}, {'start': 22.92, 'end': 22.94, 'word': '塊'}, {'start': 23.14, 'end': 23.16, 'word': '左'}, {'start': 23.36, 'end': 23.38, 'word': '右'}]}, {'start': 26.02, 'end': 29.66, 'words': [{'start': 26.02, 'end': 26.04, 'word': '好'}, {'start': 26.28, 'end': 26.3, 'word': '所'}, {'start': 26.38, 'end': 26.400000000000002, 'word': '以'}, {'start': 26.46, 'end': 26.48, 'word': '我'}, {'start': 26.62, 'end': 26.64, 'word': '如'}, {'start': 26.740000000000002, 'end': 26.76, 'word': '果'}, {'start': 26.84, 'end': 26.86, 'word': '講'}, {'start': 27.02, 'end': 27.04, 'word': '一'}, {'start': 27.1, 'end': 27.12, 'word': '段'}, {'start': 27.34, 'end': 27.36, 'word': '完'}, {'start': 27.64, 'end': 27.66, 'word': '整'}, {'start': 27.92, 'end': 27.94, 'word': '的'}, {'start': 28.52, 'end': 28.54, 'word': '這'}, {'start': 28.64, 'end': 28.66, 'word': '個'}, {'start': 28.740000000000002, 'end': 28.76, 'word': '禮'}, {'start': 28.900000000000002, 'end': 28.92, 'word': '拜'}, {'start': 29.14, 'end': 29.16, 'word': '六'}, {'start': 29.44, 'end': 29.46, 'word': '例'}, {'start': 29.54, 'end': 29.560000000000002, 'word': '如'}, {'start': 29.64, 'end': 29.66, 'word': '說'}]}]}\n"
     ]
    }
   ],
   "source": [
    "import torch\n",
    "import torchaudio\n",
    "from transformers import Wav2Vec2ForCTC, Wav2Vec2Processor\n",
    "import jieba\n",
    "import numpy as np\n",
    "import re\n",
    "import matplotlib.font_manager as fm\n",
    "import matplotlib.pyplot as plt\n",
    "import time\n",
    "import opencc\n",
    "import platform\n",
    "from dataclasses import dataclass\n",
    "import re\n",
    "import base64\n",
    "import requests\n",
    "import io\n",
    "\n",
    "def transcribe(audioStr):\n",
    "    try:\n",
    "        messages = [\n",
    "            {\n",
    "                \"role\": \"system\",\n",
    "                \"content\": \"You are a professional AI assistant specializing in ASR\"\n",
    "            },\n",
    "            {\n",
    "                \"role\": \"user\",\n",
    "                \"content\": [\n",
    "                    { \"type\": \"audio_url\", \"audio_url\": { \"url\": audioStr } },\n",
    "                    { \"type\": \"text\", \"text\": \"提取中文字幕\" }\n",
    "                ]\n",
    "            }\n",
    "        ]\n",
    "\n",
    "        # 请将以下 URL 替换为实际的 API 端点\n",
    "        url = 'http://localhost:8123/speech2text'\n",
    "\n",
    "        headers = {\n",
    "            'Content-Type': 'application/json'\n",
    "            # 如需身份验证，请在此处添加 'Authorization' 字段\n",
    "        }\n",
    "\n",
    "        payload = {\n",
    "            'model': 'qwen2-audio-7b-instruct',\n",
    "            'max_tokens': 256,\n",
    "            'temperature': 0.001,\n",
    "            'messages': messages\n",
    "        }\n",
    "\n",
    "        response = requests.post(url, headers=headers, json=payload)\n",
    "\n",
    "        if not response.ok:\n",
    "            raise Exception(f\"HTTP error! status: {response.status_code}\")\n",
    "\n",
    "        data = response.json()\n",
    "\n",
    "        return data\n",
    "\n",
    "    except Exception as error:\n",
    "        print('Error:', error)\n",
    "        raise error\n",
    "\n",
    "audio_path = '/Users/jon/Desktop/sample1.mp3'\n",
    "\n",
    "# 读取 MP3 文件的二进制数据\n",
    "with open(audio_path, 'rb') as file:\n",
    "        binary_data = file.read()\n",
    "# 将二进制数据转换为 base64 编码的字符串\n",
    "base64_encoded_data = base64.b64encode(binary_data).decode('utf-8')\n",
    "data_uri = f'data:audio/mp3;base64,{base64_encoded_data}'\n",
    "segments = transcribe(data_uri)\n",
    "print(segments)"
   ]
  }
 ],
 "metadata": {
  "kernelspec": {
   "display_name": "base",
   "language": "python",
   "name": "python3"
  },
  "language_info": {
   "codemirror_mode": {
    "name": "ipython",
    "version": 3
   },
   "file_extension": ".py",
   "mimetype": "text/x-python",
   "name": "python",
   "nbconvert_exporter": "python",
   "pygments_lexer": "ipython3",
   "version": "3.12.7"
  }
 },
 "nbformat": 4,
 "nbformat_minor": 2
}
