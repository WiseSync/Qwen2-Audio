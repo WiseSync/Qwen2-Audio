{
 "cells": [
  {
   "cell_type": "code",
   "execution_count": 6,
   "metadata": {},
   "outputs": [
    {
     "name": "stdout",
     "output_type": "stream",
     "text": [
      "Time: 5.171081066131592\n",
      "{'segments': [{'start': 0.1, 'end': 11.82, 'words': [{'start': 0.1, 'end': 0.12, 'word': '好', 'confidence': 0.80615234375}, {'start': 0.24, 'end': 0.26, 'word': '被', 'confidence': 0.7646484375}, {'start': 0.38, 'end': 0.4, 'word': '撞', 'confidence': 0.68115234375}, {'start': 0.62, 'end': 0.64, 'word': '擊', 'confidence': 0.0}, {'start': 0.7000000000000001, 'end': 0.72, 'word': '而', 'confidence': 0.12420654296875}, {'start': 0.8, 'end': 0.8200000000000001, 'word': '不', 'confidence': 0.98779296875}, {'start': 0.9400000000000001, 'end': 0.96, 'word': '幸', 'confidence': 0.00015354156494140625}, {'start': 1.1400000000000001, 'end': 1.16, 'word': '身', 'confidence': 0.96142578125}, {'start': 1.28, 'end': 1.3, 'word': '亡', 'confidence': 0.0179595947265625}, {'start': 1.4000000000000001, 'end': 1.42, 'word': '的', 'confidence': 0.8857421875}, {'start': 1.52, 'end': 1.54, 'word': '蘇', 'confidence': 0.0}, {'start': 1.74, 'end': 1.76, 'word': '姓', 'confidence': 4.1365623474121094e-05}, {'start': 1.96, 'end': 1.98, 'word': '員', 'confidence': 0.0}, {'start': 2.14, 'end': 2.16, 'word': '警', 'confidence': 0.52685546875}, {'start': 2.2800000000000002, 'end': 2.3000000000000003, 'word': '他', 'confidence': 0.00015842914581298828}, {'start': 2.46, 'end': 2.48, 'word': '們', 'confidence': 0.0}, {'start': 2.64, 'end': 2.66, 'word': '家', 'confidence': 0.1468505859375}, {'start': 2.94, 'end': 2.96, 'word': '屬', 'confidence': 0.0}, {'start': 3.3000000000000003, 'end': 3.3200000000000003, 'word': '下', 'confidence': 0.99951171875}, {'start': 3.5, 'end': 3.52, 'word': '午', 'confidence': 0.578125}, {'start': 3.66, 'end': 3.68, 'word': '兩', 'confidence': 0.0}, {'start': 3.9, 'end': 3.92, 'word': '點', 'confidence': 0.0}, {'start': 4.08, 'end': 4.1, 'word': '來', 'confidence': 0.0}, {'start': 4.24, 'end': 4.28, 'word': '到', 'confidence': 0.99560546875}, {'start': 4.36, 'end': 4.38, 'word': '了', 'confidence': 1.0}, {'start': 4.58, 'end': 4.6000000000000005, 'word': '分', 'confidence': 0.99951171875}, {'start': 4.82, 'end': 4.84, 'word': '駐', 'confidence': 0.0}, {'start': 5.08, 'end': 5.1000000000000005, 'word': '所', 'confidence': 0.99853515625}, {'start': 5.3, 'end': 5.32, 'word': '進', 'confidence': 0.0}, {'start': 5.48, 'end': 5.5, 'word': '行', 'confidence': 0.99951171875}, {'start': 5.7, 'end': 5.72, 'word': '招', 'confidence': 0.947265625}, {'start': 5.96, 'end': 5.98, 'word': '魂', 'confidence': 0.004489898681640625}, {'start': 6.140000000000001, 'end': 6.16, 'word': '儀', 'confidence': 0.0}, {'start': 6.36, 'end': 6.38, 'word': '式', 'confidence': 0.22705078125}, {'start': 6.84, 'end': 6.86, 'word': '同', 'confidence': 0.72607421875}, {'start': 7.04, 'end': 7.0600000000000005, 'word': '袍', 'confidence': 0.00014650821685791016}, {'start': 7.18, 'end': 7.2, 'word': '也', 'confidence': 1.0}, {'start': 7.34, 'end': 7.36, 'word': '在', 'confidence': 0.9990234375}, {'start': 7.46, 'end': 7.48, 'word': '門', 'confidence': 0.0}, {'start': 7.62, 'end': 7.640000000000001, 'word': '口', 'confidence': 0.8037109375}, {'start': 7.8, 'end': 7.82, 'word': '列', 'confidence': 0.003692626953125}, {'start': 8.040000000000001, 'end': 8.06, 'word': '隊', 'confidence': 0.0}, {'start': 8.16, 'end': 8.18, 'word': '要', 'confidence': 0.9990234375}, {'start': 8.38, 'end': 8.4, 'word': '送', 'confidence': 0.12274169921875}, {'start': 8.56, 'end': 8.58, 'word': '他', 'confidence': 0.047515869140625}, {'start': 8.88, 'end': 8.9, 'word': '最', 'confidence': 0.986328125}, {'start': 9.08, 'end': 9.1, 'word': '後', 'confidence': 0.0}, {'start': 9.200000000000001, 'end': 9.22, 'word': '一', 'confidence': 0.90283203125}, {'start': 9.38, 'end': 9.4, 'word': '程', 'confidence': 0.86279296875}, {'start': 9.92, 'end': 9.94, 'word': '詳', 'confidence': 0.0}, {'start': 10.040000000000001, 'end': 10.06, 'word': '細', 'confidence': 0.0}, {'start': 10.18, 'end': 10.200000000000001, 'word': '情', 'confidence': 0.98388671875}, {'start': 10.28, 'end': 10.3, 'word': '況', 'confidence': 0.0}, {'start': 10.42, 'end': 10.44, 'word': '連', 'confidence': 0.0}, {'start': 10.540000000000001, 'end': 10.56, 'word': '線', 'confidence': 0.0}, {'start': 10.64, 'end': 10.66, 'word': '給', 'confidence': 0.0}, {'start': 10.76, 'end': 10.78, 'word': '記', 'confidence': 0.0}, {'start': 10.9, 'end': 10.92, 'word': '者', 'confidence': 0.9736328125}, {'start': 11.040000000000001, 'end': 11.06, 'word': '林', 'confidence': 0.0200042724609375}, {'start': 11.200000000000001, 'end': 11.22, 'word': '荷', 'confidence': 1.9669532775878906e-06}, {'start': 11.4, 'end': 11.42, 'word': '容', 'confidence': 0.202392578125}, {'start': 11.68, 'end': 11.700000000000001, 'word': '荷', 'confidence': 0.0008840560913085938}, {'start': 11.8, 'end': 11.82, 'word': '容', 'confidence': 0.1873779296875}], 'text': '好被撞擊而不幸身亡的蘇姓員警他們家屬下午兩點來到了分駐所進行招魂儀式、同袍也在門口列隊要送他最後一程詳細情況連線給記者林荷容、荷容。'}, {'start': 12.98, 'end': 29.900000000000002, 'words': [{'start': 12.98, 'end': 13.0, 'word': '帶', 'confidence': 0.0}, {'start': 13.16, 'end': 13.18, 'word': '您', 'confidence': 1.3649463653564453e-05}, {'start': 13.3, 'end': 13.32, 'word': '來', 'confidence': 0.0}, {'start': 13.5, 'end': 13.52, 'word': '關', 'confidence': 0.0}, {'start': 13.76, 'end': 13.780000000000001, 'word': '注', 'confidence': 0.9990234375}, {'start': 14.08, 'end': 14.1, 'word': '這', 'confidence': 0.0}, {'start': 14.36, 'end': 14.38, 'word': '起', 'confidence': 0.130859375}, {'start': 14.620000000000001, 'end': 14.64, 'word': '嫌', 'confidence': 0.14794921875}, {'start': 14.82, 'end': 14.84, 'word': '犯', 'confidence': 0.1884765625}, {'start': 15.36, 'end': 15.38, 'word': '開', 'confidence': 0.0}, {'start': 15.56, 'end': 15.58, 'word': '贓', 'confidence': 0.0}, {'start': 15.58, 'end': 15.6, 'word': '車', 'confidence': 0.0}, {'start': 15.84, 'end': 15.860000000000001, 'word': '撞', 'confidence': 0.54736328125}, {'start': 16.1, 'end': 16.12, 'word': '死', 'confidence': 0.00708770751953125}, {'start': 16.38, 'end': 16.4, 'word': '巡', 'confidence': 0.39404296875}, {'start': 16.56, 'end': 16.580000000000002, 'word': '路', 'confidence': 0.3076171875}, {'start': 16.72, 'end': 16.740000000000002, 'word': '員', 'confidence': 0.0}, {'start': 16.92, 'end': 16.94, 'word': '和', 'confidence': 0.74169921875}, {'start': 17.1, 'end': 17.12, 'word': '員', 'confidence': 0.0}, {'start': 17.32, 'end': 17.34, 'word': '警', 'confidence': 0.82177734375}, {'start': 17.5, 'end': 17.52, 'word': '的', 'confidence': 0.97900390625}, {'start': 17.84, 'end': 17.86, 'word': '悲', 'confidence': 0.252685546875}, {'start': 18.06, 'end': 18.080000000000002, 'word': '劇', 'confidence': 0.0}, {'start': 18.240000000000002, 'end': 18.26, 'word': '事', 'confidence': 7.605552673339844e-05}, {'start': 18.46, 'end': 18.48, 'word': '件', 'confidence': 0.033355712890625}, {'start': 18.86, 'end': 18.88, 'word': '就', 'confidence': 0.94091796875}, {'start': 19.02, 'end': 19.04, 'word': '在', 'confidence': 0.9775390625}, {'start': 19.26, 'end': 19.28, 'word': '今', 'confidence': 0.2164306640625}, {'start': 19.5, 'end': 19.52, 'word': '天', 'confidence': 0.625}, {'start': 19.78, 'end': 19.8, 'word': '下', 'confidence': 0.931640625}, {'start': 19.94, 'end': 19.96, 'word': '午', 'confidence': 0.10357666015625}, {'start': 20.14, 'end': 20.16, 'word': '的', 'confidence': 0.93408203125}, {'start': 20.400000000000002, 'end': 20.42, 'word': '兩', 'confidence': 0.0}, {'start': 20.740000000000002, 'end': 20.76, 'word': '點', 'confidence': 0.0}, {'start': 21.080000000000002, 'end': 21.1, 'word': '殉', 'confidence': 0.0006122589111328125}, {'start': 21.38, 'end': 21.400000000000002, 'word': '職', 'confidence': 0.0}, {'start': 21.64, 'end': 21.66, 'word': '員', 'confidence': 0.0}, {'start': 21.86, 'end': 21.88, 'word': '警', 'confidence': 0.0303192138671875}, {'start': 22.0, 'end': 22.02, 'word': '的', 'confidence': 0.990234375}, {'start': 22.16, 'end': 22.18, 'word': '家', 'confidence': 0.4384765625}, {'start': 22.44, 'end': 22.46, 'word': '屬', 'confidence': 0.0}, {'start': 22.72, 'end': 22.740000000000002, 'word': '也', 'confidence': 0.99755859375}, {'start': 22.92, 'end': 22.94, 'word': '來', 'confidence': 0.0}, {'start': 23.16, 'end': 23.18, 'word': '到', 'confidence': 0.66650390625}, {'start': 23.44, 'end': 23.46, 'word': '八', 'confidence': 0.94140625}, {'start': 23.76, 'end': 23.78, 'word': '堵', 'confidence': 0.005519866943359375}, {'start': 23.98, 'end': 24.0, 'word': '的', 'confidence': 0.67919921875}, {'start': 24.18, 'end': 24.2, 'word': '分', 'confidence': 0.99951171875}, {'start': 24.46, 'end': 24.48, 'word': '駐', 'confidence': 0.0}, {'start': 24.740000000000002, 'end': 24.76, 'word': '所', 'confidence': 0.99658203125}, {'start': 24.88, 'end': 24.900000000000002, 'word': '進', 'confidence': 0.0}, {'start': 25.2, 'end': 25.240000000000002, 'word': '行', 'confidence': 0.5}, {'start': 25.48, 'end': 25.5, 'word': '招', 'confidence': 0.9306640625}, {'start': 25.72, 'end': 25.740000000000002, 'word': '魂', 'confidence': 0.00832366943359375}, {'start': 25.88, 'end': 25.900000000000002, 'word': '儀', 'confidence': 0.0}, {'start': 26.080000000000002, 'end': 26.1, 'word': '式', 'confidence': 0.005146026611328125}, {'start': 26.54, 'end': 26.560000000000002, 'word': '可', 'confidence': 1.3709068298339844e-06}, {'start': 26.66, 'end': 26.68, 'word': '以', 'confidence': 1.0132789611816406e-06}, {'start': 26.76, 'end': 26.78, 'word': '看', 'confidence': 0.75048828125}, {'start': 26.98, 'end': 27.0, 'word': '到', 'confidence': 0.9912109375}, {'start': 27.22, 'end': 27.240000000000002, 'word': '門', 'confidence': 0.0}, {'start': 27.46, 'end': 27.48, 'word': '口', 'confidence': 0.0191192626953125}, {'start': 27.8, 'end': 27.82, 'word': '兩', 'confidence': 0.0}, {'start': 28.42, 'end': 28.44, 'word': '兩', 'confidence': 0.0}, {'start': 28.68, 'end': 28.7, 'word': '排', 'confidence': 0.006160736083984375}, {'start': 28.94, 'end': 28.96, 'word': '刑', 'confidence': 0.00019562244415283203}, {'start': 29.2, 'end': 29.22, 'word': '員', 'confidence': 0.0}, {'start': 29.52, 'end': 29.54, 'word': '警', 'confidence': 0.0007987022399902344}, {'start': 29.72, 'end': 29.740000000000002, 'word': '呢', 'confidence': 0.01398468017578125}, {'start': 29.88, 'end': 29.900000000000002, 'word': '都', 'confidence': 0.99853515625}], 'text': '帶您來關注這起嫌犯開贓車撞死巡路員和員警的悲劇事件就在今天下午的兩點殉職員警的家屬也來到八堵的分駐所進行招魂儀式可以看到門口兩兩排刑員警呢、都'}]}\n"
     ]
    }
   ],
   "source": [
    "import base64\n",
    "import requests\n",
    "import time\n",
    "\n",
    "def transcribe(audioStr):\n",
    "    try:\n",
    "        messages = [\n",
    "            {\n",
    "                \"role\": \"system\",\n",
    "                \"content\": \"You are responsible for transcribing audio recordings into text. The application context is: Taiwan Congress.\"\n",
    "            },\n",
    "            {\n",
    "                \"role\": \"user\",\n",
    "                \"content\": [\n",
    "                    { \"type\": \"audio_url\", \"audio_url\": { \"url\": audioStr } },\n",
    "                    { \"type\": \"text\", \"text\": \"提取文本\" }\n",
    "                ]\n",
    "            }\n",
    "        ]\n",
    "\n",
    "        # 请将以下 URL 替换为实际的 API 端点\n",
    "        url = 'https://mtt0f4kcgk6iw5-5001.proxy.runpod.net/speech2text'\n",
    "\n",
    "        headers = {\n",
    "            'Content-Type': 'application/json'\n",
    "            # 如需身份验证，请在此处添加 'Authorization' 字段\n",
    "        }\n",
    "\n",
    "        payload = {\n",
    "            'model': 'Training/wsasr/v18-20241104-130300/checkpoint-500-merged',\n",
    "            'max_tokens': 256,\n",
    "            'temperature': 0.1,\n",
    "            'messages': messages\n",
    "        }\n",
    "\n",
    "        response = requests.post(url, headers=headers, json=payload)\n",
    "\n",
    "        if not response.ok:\n",
    "            raise Exception(f\"HTTP error! status: {response.status_code}\")\n",
    "\n",
    "        data = response.json()\n",
    "\n",
    "        return data\n",
    "\n",
    "    except Exception as error:\n",
    "        print('Error:', error)\n",
    "        raise error\n",
    "\n",
    "audio_path = 'demo/sample.mp3'\n",
    "\n",
    "# 读取 MP3 文件的二进制数据\n",
    "with open(audio_path, 'rb') as file:\n",
    "        binary_data = file.read()\n",
    "# 将二进制数据转换为 base64 编码的字符串\n",
    "base64_encoded_data = base64.b64encode(binary_data).decode('utf-8')\n",
    "data_uri = f'data:audio/mp3;base64,{base64_encoded_data}'\n",
    "start_time = time.time()\n",
    "segments = transcribe(data_uri)\n",
    "print('Time:', time.time() - start_time)\n",
    "print(segments)"
   ]
  },
  {
   "cell_type": "code",
   "execution_count": null,
   "metadata": {},
   "outputs": [
    {
     "name": "stdout",
     "output_type": "stream",
     "text": [
      "Time: 6.580352783203125e-05\n",
      "示例 1：\n",
      "原文本：和蓉。是您來關注這起嫌犯開贓車撞死巡路員的的的的...的的的...的的的...的的的...的的的...的的的...的的的...的的的...的的的...的的的...的的的...的的的...的的的...的的的...的的的...的的的...的的的...的的的...的的的...的的的...的的的...的的的...的的的...的的的...的的的...的的的\n",
      "处理后：和蓉。是您來關注這起嫌犯開贓車撞死巡路員的的的的...\n",
      "\n",
      "Time: 2.7894973754882812e-05\n",
      "示例 2：\n",
      "原文本：而同一時間掀掀的掀掀的掀掀的掀掀的掀掀的掀掀的掀掀的掀掀的掀掀的掀掀\n",
      "处理后：而同一時間掀掀的\n",
      "\n",
      "Time: 1.1920928955078125e-05\n",
      "示例 3：\n",
      "原文本：悲劇事件就在今天下午的就在今天下午的就在今天下午的就在今天下午的就在今天下午的就在今天下午的就在今天下午的就在今天下午的就在今天下午的就在今天下午的就在今天下午的就在今天下午的就在今天下午的就在今天下午的就在今天下午的就在今天下午的就在今天下午的就在今天下午的就在今天下午的就在今天下午的就在今天下午的就在今天下午的就在今天下午的就在今天下午的就在今天下午的就在今天下午的就在今天下午的就在今天下午的就在今天下午的就在今天下午的就在今天下午的就在\n",
      "处理后：悲劇事件就在今天下午的\n",
      "\n"
     ]
    }
   ],
   "source": [
    "import re\n",
    "import time\n",
    "\n",
    "def remove_repeated_phrases(text):\n",
    "    # 移除句子末尾的空白字符\n",
    "    text = text.rstrip()\n",
    "\n",
    "    max_phrase_length = 30  # 最大短语长度，可根据需要调整\n",
    "    min_repeats = 5  # 最小重复次数\n",
    "\n",
    "    # 获取文本长度\n",
    "    text_length = len(text)\n",
    "\n",
    "    # 计算可能的最大短语长度，防止越界\n",
    "    max_possible_length = min(max_phrase_length, text_length // min_repeats)\n",
    "\n",
    "    # 从短语长度为 1 开始，逐渐增加\n",
    "    for phrase_length in range(1, max_possible_length + 1):\n",
    "        # 获取末尾的短语\n",
    "        phrase = text[-phrase_length:]\n",
    "        # 构建重复的短语\n",
    "        repeated_phrase = phrase * min_repeats\n",
    "        # 检查文本是否以重复的短语结尾\n",
    "        if text.endswith(repeated_phrase):\n",
    "            # 使用正则表达式查找重复的部分\n",
    "            pattern = f'({re.escape(phrase)}){{{min_repeats},}}$'\n",
    "            match = re.search(pattern, text)\n",
    "            if match:\n",
    "                # 将重复的部分替换为单个短语\n",
    "                text = text[:match.start()] + ''\n",
    "                ntlen = len(text)\n",
    "                plen = len(phrase)\n",
    "                index = None\n",
    "                for i in range(0, plen):\n",
    "                    if(text[ntlen-i-1] == phrase[plen-i-1]):\n",
    "                        index = i\n",
    "                        continue\n",
    "                    else:\n",
    "                        break\n",
    "                if(index != None):\n",
    "                    text = text+phrase[:-index-1]\n",
    "                return text\n",
    "\n",
    "    # 如果未找到重复的短语，返回原文本\n",
    "    return text\n",
    "\n",
    "# 示例文本\n",
    "texts = [\n",
    "    \"和蓉。是您來關注這起嫌犯開贓車撞死巡路員的的的的...的的的...的的的...的的的...的的的...的的的...的的的...的的的...的的的...的的的...的的的...的的的...的的的...的的的...的的的...的的的...的的的...的的的...的的的...的的的...的的的...的的的...的的的...的的的...的的的...的的的\",\n",
    "    \"而同一時間掀掀的掀掀的掀掀的掀掀的掀掀的掀掀的掀掀的掀掀的掀掀的掀掀\",\n",
    "    \"悲劇事件就在今天下午的就在今天下午的就在今天下午的就在今天下午的就在今天下午的就在今天下午的就在今天下午的就在今天下午的就在今天下午的就在今天下午的就在今天下午的就在今天下午的就在今天下午的就在今天下午的就在今天下午的就在今天下午的就在今天下午的就在今天下午的就在今天下午的就在今天下午的就在今天下午的就在今天下午的就在今天下午的就在今天下午的就在今天下午的就在今天下午的就在今天下午的就在今天下午的就在今天下午的就在今天下午的就在今天下午的就在\"\n",
    "]\n",
    "\n",
    "# 测试代码\n",
    "for idx, text in enumerate(texts, 1):\n",
    "    start_time = time.time()\n",
    "    result = remove_repeated_phrases(text)\n",
    "    print('Time:', time.time() - start_time)\n",
    "    print(f\"示例 {idx}：\\n原文本：{text}\\n处理后：{result}\\n\")"
   ]
  },
  {
   "cell_type": "code",
   "execution_count": 27,
   "metadata": {},
   "outputs": [
    {
     "name": "stdout",
     "output_type": "stream",
     "text": [
      "把你 配給所有台灣人的感受的 基本檢驗到了的時候\n"
     ]
    }
   ],
   "source": [
    "import re\n",
    "\n",
    "pattern = r'(?:\\d+(?:,{1,2}\\d+)?\\s*->\\s*)+\\d+(?:,{1,2}\\d+)?'\n",
    "text = '把你0,000 -> 00,673 配給所有台灣人的感受的00,723 -> 04,,008 基本檢驗到了的時候'\n",
    "\n",
    "text = re.sub(pattern, r'', text)\n",
    "print(text)"
   ]
  }
 ],
 "metadata": {
  "kernelspec": {
   "display_name": "base",
   "language": "python",
   "name": "python3"
  },
  "language_info": {
   "codemirror_mode": {
    "name": "ipython",
    "version": 3
   },
   "file_extension": ".py",
   "mimetype": "text/x-python",
   "name": "python",
   "nbconvert_exporter": "python",
   "pygments_lexer": "ipython3",
   "version": "3.12.7"
  }
 },
 "nbformat": 4,
 "nbformat_minor": 2
}
