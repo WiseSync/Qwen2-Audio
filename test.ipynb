{
 "cells": [
  {
   "cell_type": "code",
   "execution_count": 22,
   "metadata": {},
   "outputs": [
    {
     "name": "stdout",
     "output_type": "stream",
     "text": [
      "Time: 51.795860052108765\n",
      "{'segments': [{'start': 0.14, 'end': 0.56, 'words': [{'start': 0.14, 'end': 0.16, 'word': 'O', 'confidence': 0.0}, {'start': 0.32, 'end': 0.34, 'word': 'K', 'confidence': 2.384185791015625e-07}, {'start': 0.46, 'end': 0.48, 'word': 'O', 'confidence': 4.76837158203125e-07}, {'start': 0.54, 'end': 0.56, 'word': 'K', 'confidence': 0.0}], 'text': 'OK？'}, {'start': 0.58, 'end': 1.48, 'words': [{'start': 0.58, 'end': 0.6, 'word': '如', 'confidence': 0.0001882314682006836}, {'start': 0.66, 'end': 0.68, 'word': '果', 'confidence': 1.0728836059570312e-06}, {'start': 0.76, 'end': 0.78, 'word': '你', 'confidence': 1.1920928955078125e-07}, {'start': 0.8, 'end': 0.8200000000000001, 'word': '沒', 'confidence': 0.0}, {'start': 0.9, 'end': 0.9400000000000001, 'word': '有', 'confidence': 0.92919921875}, {'start': 1.0, 'end': 1.02, 'word': '問', 'confidence': 0.0}, {'start': 1.24, 'end': 1.26, 'word': '題', 'confidence': 0.0}, {'start': 1.34, 'end': 1.36, 'word': '的', 'confidence': 0.8525390625}, {'start': 1.46, 'end': 1.48, 'word': '話', 'confidence': 0.0}], 'text': 'OK如果你沒有問題的話，'}, {'start': 1.82, 'end': 2.74, 'words': [{'start': 1.82, 'end': 1.84, 'word': '我', 'confidence': 0.00109100341796875}, {'start': 2.0, 'end': 2.02, 'word': '先', 'confidence': 1.7881393432617188e-07}, {'start': 2.24, 'end': 2.2600000000000002, 'word': '回', 'confidence': 0.720703125}, {'start': 2.42, 'end': 2.44, 'word': '位', 'confidence': 0.0989990234375}, {'start': 2.72, 'end': 2.74, 'word': '置', 'confidence': 1.4901161193847656e-06}], 'text': '我先回位置。'}, {'start': 2.7800000000000002, 'end': 3.6, 'words': [{'start': 2.7800000000000002, 'end': 2.8000000000000003, 'word': '那', 'confidence': 0.0044708251953125}, {'start': 2.9, 'end': 2.92, 'word': '如', 'confidence': 0.0008769035339355469}, {'start': 3.0, 'end': 3.02, 'word': '果', 'confidence': 0.00015234947204589844}, {'start': 3.18, 'end': 3.2, 'word': '你', 'confidence': 0.0016775131225585938}, {'start': 3.4, 'end': 3.42, 'word': '簽', 'confidence': 0.0}, {'start': 3.58, 'end': 3.6, 'word': '完', 'confidence': 0.01027679443359375}], 'text': '那如果你簽完，'}, {'start': 3.7, 'end': 4.98, 'words': [{'start': 3.7, 'end': 3.72, 'word': '然', 'confidence': 6.866455078125e-05}, {'start': 3.8000000000000003, 'end': 3.8200000000000003, 'word': '後', 'confidence': 0.0}, {'start': 3.92, 'end': 3.94, 'word': '你', 'confidence': 7.140636444091797e-05}, {'start': 4.04, 'end': 4.0600000000000005, 'word': '需', 'confidence': 0.002498626708984375}, {'start': 4.12, 'end': 4.14, 'word': '要', 'confidence': 0.01210784912109375}, {'start': 4.24, 'end': 4.26, 'word': '找', 'confidence': 0.004909515380859375}, {'start': 4.36, 'end': 4.38, 'word': '我', 'confidence': 8.153915405273438e-05}, {'start': 4.48, 'end': 4.5, 'word': '的', 'confidence': 0.00036835670471191406}, {'start': 4.96, 'end': 4.98, 'word': '話', 'confidence': 0.0}], 'text': '然後你需要找我的話？'}, {'start': 5.18, 'end': 7.82, 'words': [{'start': 5.18, 'end': 5.2, 'word': '請', 'confidence': 0.0}, {'start': 5.4, 'end': 5.42, 'word': '撥', 'confidence': 0.0}, {'start': 5.5600000000000005, 'end': 5.58, 'word': '打', 'confidence': 3.5762786865234375e-07}, {'start': 5.68, 'end': 5.7, 'word': '我', 'confidence': 0.0}, {'start': 5.76, 'end': 5.78, 'word': '的', 'confidence': 0.59326171875}, {'start': 6.08, 'end': 6.1000000000000005, 'word': '電', 'confidence': 0.0}, {'start': 6.22, 'end': 6.24, 'word': '話', 'confidence': 0.0}, {'start': 6.4, 'end': 6.42, 'word': '六', 'confidence': 0.0003952980041503906}, {'start': 6.46, 'end': 6.48, 'word': '六', 'confidence': 2.384185791015625e-06}, {'start': 7.8, 'end': 7.82, 'word': '一', 'confidence': 0.00011152029037475586}], 'text': '請撥打我的電話661。'}, {'start': 8.0, 'end': 8.32, 'words': [{'start': 8.0, 'end': 8.02, 'word': '哇', 'confidence': 7.486343383789062e-05}, {'start': 8.3, 'end': 8.32, 'word': '喔', 'confidence': 0.0015878677368164062}], 'text': '哇喔！'}, {'start': 9.700000000000001, 'end': 9.94, 'words': [{'start': 9.700000000000001, 'end': 9.72, 'word': '好', 'confidence': 5.960464477539063e-08}, {'start': 9.92, 'end': 9.94, 'word': '難', 'confidence': 0.0}], 'text': '好難！'}, {'start': 10.06, 'end': 13.22, 'words': [{'start': 10.06, 'end': 10.08, 'word': '六', 'confidence': 4.231929779052734e-06}, {'start': 10.200000000000001, 'end': 10.22, 'word': '六', 'confidence': 1.0132789611816406e-06}, {'start': 10.6, 'end': 10.620000000000001, 'word': '一', 'confidence': 0.000823974609375}, {'start': 10.78, 'end': 10.8, 'word': '我', 'confidence': 2.980232238769531e-07}, {'start': 10.94, 'end': 10.96, 'word': '趕', 'confidence': 0.0}, {'start': 11.06, 'end': 11.08, 'word': '快', 'confidence': 0.0005254745483398438}, {'start': 11.44, 'end': 11.46, 'word': '轉', 'confidence': 0.0}, {'start': 12.14, 'end': 12.16, 'word': '六', 'confidence': 1.4424324035644531e-05}, {'start': 12.36, 'end': 12.38, 'word': '六', 'confidence': 0.022003173828125}, {'start': 13.200000000000001, 'end': 13.22, 'word': '一', 'confidence': 0.003551483154296875}], 'text': '661我趕快轉661。'}, {'start': 13.98, 'end': 14.84, 'words': [{'start': 13.98, 'end': 14.0, 'word': '好', 'confidence': 0.0008015632629394531}, {'start': 14.46, 'end': 14.48, 'word': '就', 'confidence': 0.99609375}, {'start': 14.66, 'end': 14.68, 'word': '簽', 'confidence': 0.0}, {'start': 14.82, 'end': 14.84, 'word': '了', 'confidence': 0.06805419921875}], 'text': '好就簽了，'}, {'start': 14.94, 'end': 16.52, 'words': [{'start': 14.94, 'end': 14.96, 'word': '然', 'confidence': 0.00010722875595092773}, {'start': 15.040000000000001, 'end': 15.06, 'word': '後', 'confidence': 0.0}, {'start': 15.120000000000001, 'end': 15.14, 'word': '後', 'confidence': 0.0}, {'start': 15.34, 'end': 15.36, 'word': '來', 'confidence': 0.0}, {'start': 15.56, 'end': 15.58, 'word': '就', 'confidence': 0.10748291015625}, {'start': 15.72, 'end': 15.74, 'word': '來', 'confidence': 0.0}, {'start': 15.82, 'end': 15.84, 'word': '這', 'confidence': 0.0}, {'start': 15.92, 'end': 15.94, 'word': '個', 'confidence': 0.0}, {'start': 16.1, 'end': 16.12, 'word': '公', 'confidence': 0.0258331298828125}, {'start': 16.2, 'end': 16.22, 'word': '司', 'confidence': 7.3909759521484375e-06}, {'start': 16.3, 'end': 16.32, 'word': '上', 'confidence': 0.003635406494140625}, {'start': 16.5, 'end': 16.52, 'word': '班', 'confidence': 0.0152435302734375}], 'text': '然後後來就來這個公司上班。'}, {'start': 17.12, 'end': 18.84, 'words': [{'start': 17.12, 'end': 17.14, 'word': '但', 'confidence': 0.83056640625}, {'start': 17.240000000000002, 'end': 17.26, 'word': '是', 'confidence': 0.1505126953125}, {'start': 17.38, 'end': 17.400000000000002, 'word': '後', 'confidence': 0.0}, {'start': 17.46, 'end': 17.48, 'word': '來', 'confidence': 0.0}, {'start': 17.54, 'end': 17.56, 'word': '就', 'confidence': 8.958578109741211e-05}, {'start': 17.66, 'end': 17.68, 'word': '發', 'confidence': 0.0}, {'start': 17.82, 'end': 17.84, 'word': '現', 'confidence': 0.0}, {'start': 18.02, 'end': 18.04, 'word': '外', 'confidence': 1.7940998077392578e-05}, {'start': 18.14, 'end': 18.16, 'word': '商', 'confidence': 0.0009188652038574219}, {'start': 18.26, 'end': 18.28, 'word': '公', 'confidence': 0.25830078125}, {'start': 18.400000000000002, 'end': 18.42, 'word': '司', 'confidence': 0.338134765625}, {'start': 18.6, 'end': 18.62, 'word': '很', 'confidence': 0.0082550048828125}, {'start': 18.82, 'end': 18.84, 'word': '妙', 'confidence': 3.2961368560791016e-05}], 'text': '但是後來就發現外商公司很妙。'}, {'start': 20.82, 'end': 30.0, 'words': [{'start': 20.82, 'end': 20.84, 'word': '他', 'confidence': 0.272216796875}, {'start': 20.900000000000002, 'end': 20.92, 'word': '們', 'confidence': 0.0}, {'start': 21.04, 'end': 21.06, 'word': '講', 'confidence': 0.0}, {'start': 21.2, 'end': 21.22, 'word': '話', 'confidence': 0.0}, {'start': 21.36, 'end': 21.38, 'word': '永', 'confidence': 2.0325183868408203e-05}, {'start': 21.46, 'end': 21.48, 'word': '遠', 'confidence': 0.0}, {'start': 21.56, 'end': 21.580000000000002, 'word': '都', 'confidence': 0.98095703125}, {'start': 21.68, 'end': 21.7, 'word': '是', 'confidence': 0.98388671875}, {'start': 21.76, 'end': 21.78, 'word': '這', 'confidence': 0.0}, {'start': 21.86, 'end': 21.88, 'word': '樣', 'confidence': 0.0}, {'start': 22.04, 'end': 22.06, 'word': '就', 'confidence': 0.009613037109375}, {'start': 22.16, 'end': 22.18, 'word': '是', 'confidence': 0.89111328125}, {'start': 22.240000000000002, 'end': 22.26, 'word': '你', 'confidence': 4.76837158203125e-07}, {'start': 22.32, 'end': 22.34, 'word': '們', 'confidence': 0.0}, {'start': 22.400000000000002, 'end': 22.42, 'word': '應', 'confidence': 0.0}, {'start': 22.5, 'end': 22.52, 'word': '該', 'confidence': 0.0}, {'start': 22.64, 'end': 22.66, 'word': '都', 'confidence': 0.93505859375}, {'start': 22.8, 'end': 22.82, 'word': '知', 'confidence': 0.0}, {'start': 22.88, 'end': 22.900000000000002, 'word': '道', 'confidence': 1.430511474609375e-06}, {'start': 23.1, 'end': 23.12, 'word': '所', 'confidence': 0.8896484375}, {'start': 23.18, 'end': 23.2, 'word': '謂', 'confidence': 0.0}, {'start': 23.3, 'end': 23.32, 'word': '的', 'confidence': 0.9892578125}, {'start': 23.46, 'end': 23.48, 'word': '晶', 'confidence': 2.0325183868408203e-05}, {'start': 23.64, 'end': 23.66, 'word': '晶', 'confidence': 4.76837158203125e-07}, {'start': 23.88, 'end': 23.900000000000002, 'word': '體', 'confidence': 0.0}, {'start': 24.0, 'end': 24.02, 'word': '在', 'confidence': 0.04193115234375}, {'start': 24.1, 'end': 24.12, 'word': '外', 'confidence': 0.6103515625}, {'start': 24.240000000000002, 'end': 24.26, 'word': '商', 'confidence': 0.0006241798400878906}, {'start': 24.36, 'end': 24.38, 'word': '公', 'confidence': 0.92236328125}, {'start': 24.54, 'end': 24.560000000000002, 'word': '司', 'confidence': 0.0020465850830078125}, {'start': 24.62, 'end': 24.64, 'word': '就', 'confidence': 5.066394805908203e-05}, {'start': 24.64, 'end': 24.66, 'word': '這', 'confidence': 0.0}, {'start': 24.72, 'end': 24.740000000000002, 'word': '樣', 'confidence': 0.0}, {'start': 24.86, 'end': 24.88, 'word': '我', 'confidence': 0.0015697479248046875}, {'start': 24.98, 'end': 25.0, 'word': '最', 'confidence': 0.9921875}, {'start': 25.12, 'end': 25.14, 'word': '常', 'confidence': 0.0024394989013671875}, {'start': 25.22, 'end': 25.240000000000002, 'word': '聽', 'confidence': 0.0}, {'start': 25.26, 'end': 25.28, 'word': '到', 'confidence': 0.763671875}, {'start': 25.42, 'end': 25.44, 'word': '就', 'confidence': 0.004215240478515625}, {'start': 25.560000000000002, 'end': 25.580000000000002, 'word': '是', 'confidence': 0.00433349609375}, {'start': 26.0, 'end': 26.02, 'word': '類', 'confidence': 0.0}, {'start': 26.14, 'end': 26.16, 'word': '似', 'confidence': 0.9970703125}, {'start': 26.3, 'end': 26.32, 'word': '說', 'confidence': 0.0}, {'start': 26.42, 'end': 26.44, 'word': '我', 'confidence': 0.0002493858337402344}, {'start': 26.44, 'end': 26.46, 'word': '今', 'confidence': 5.960464477539062e-07}, {'start': 26.5, 'end': 26.52, 'word': '天', 'confidence': 9.316205978393555e-05}, {'start': 26.68, 'end': 26.7, 'word': '交', 'confidence': 0.341552734375}, {'start': 26.78, 'end': 26.8, 'word': '一', 'confidence': 1.1861324310302734e-05}, {'start': 26.88, 'end': 26.900000000000002, 'word': '個', 'confidence': 0.0}, {'start': 26.98, 'end': 27.0, 'word': '報', 'confidence': 0.0}, {'start': 27.16, 'end': 27.18, 'word': '告', 'confidence': 2.7418136596679688e-06}, {'start': 27.34, 'end': 27.36, 'word': '給', 'confidence': 0.0}, {'start': 27.44, 'end': 27.46, 'word': '我', 'confidence': 0.0216217041015625}, {'start': 27.560000000000002, 'end': 27.580000000000002, 'word': '的', 'confidence': 0.787109375}, {'start': 27.64, 'end': 27.66, 'word': '老', 'confidence': 0.97265625}, {'start': 27.8, 'end': 27.82, 'word': '闆', 'confidence': 0.0}, {'start': 28.02, 'end': 28.04, 'word': '看', 'confidence': 3.790855407714844e-05}, {'start': 28.46, 'end': 28.48, 'word': '我', 'confidence': 0.001575469970703125}, {'start': 28.560000000000002, 'end': 28.580000000000002, 'word': '的', 'confidence': 0.53271484375}, {'start': 28.64, 'end': 28.66, 'word': '英', 'confidence': 0.008453369140625}, {'start': 28.72, 'end': 28.740000000000002, 'word': '文', 'confidence': 0.0117340087890625}, {'start': 28.92, 'end': 28.94, 'word': '我', 'confidence': 0.00197601318359375}, {'start': 29.04, 'end': 29.060000000000002, 'word': '的', 'confidence': 0.401611328125}, {'start': 29.2, 'end': 29.22, 'word': '中', 'confidence': 1.430511474609375e-05}, {'start': 29.32, 'end': 29.34, 'word': '文', 'confidence': 0.00872039794921875}, {'start': 29.44, 'end': 29.46, 'word': '就', 'confidence': 4.5418739318847656e-05}, {'start': 29.580000000000002, 'end': 29.6, 'word': '這', 'confidence': 0.0}, {'start': 29.98, 'end': 30.0, 'word': '樣', 'confidence': -30.09375}], 'text': '他們講話永遠都是這樣就是你們應該都知道所謂的晶晶體在外商公司就這樣我最常聽到就是類似說我今天交一個報告給我的老闆看我的英文我的中文就這樣。'}]}\n"
     ]
    }
   ],
   "source": [
    "import base64\n",
    "import requests\n",
    "import time\n",
    "\n",
    "def transcribe(audioStr):\n",
    "    try:\n",
    "        messages = [\n",
    "            {\n",
    "                \"role\": \"system\",\n",
    "                \"content\": \"You are responsible for transcribing audio recordings into text. The application context is: Taiwan Congress.\"\n",
    "            },\n",
    "            {\n",
    "                \"role\": \"user\",\n",
    "                \"content\": [\n",
    "                    { \"type\": \"audio_url\", \"audio_url\": { \"url\": audioStr } },\n",
    "                    { \"type\": \"text\", \"text\": \"轉寫中文逐字稿\" }\n",
    "                ]\n",
    "            }\n",
    "        ]\n",
    "\n",
    "        # 请将以下 URL 替换为实际的 API 端点\n",
    "        url = 'http://localhost:8000/speech2text'\n",
    "\n",
    "        headers = {\n",
    "            'Content-Type': 'application/json'\n",
    "            # 如需身份验证，请在此处添加 'Authorization' 字段\n",
    "        }\n",
    "\n",
    "        payload = {\n",
    "            'model': '155',\n",
    "            'max_tokens': 256,\n",
    "            'temperature': 0.01,\n",
    "            'messages': messages\n",
    "        }\n",
    "\n",
    "        response = requests.post(url, headers=headers, json=payload)\n",
    "\n",
    "        if not response.ok:\n",
    "            raise Exception(f\"HTTP error! status: {response.status_code}\")\n",
    "\n",
    "        data = response.json()\n",
    "\n",
    "        return data\n",
    "\n",
    "    except Exception as error:\n",
    "        print('Error:', error)\n",
    "        raise error\n",
    "\n",
    "audio_path = 'demo/sample3.mp3'\n",
    "\n",
    "# 读取 MP3 文件的二进制数据\n",
    "with open(audio_path, 'rb') as file:\n",
    "        binary_data = file.read()\n",
    "# 将二进制数据转换为 base64 编码的字符串\n",
    "base64_encoded_data = base64.b64encode(binary_data).decode('utf-8')\n",
    "data_uri = f'data:audio/mp3;base64,{base64_encoded_data}'\n",
    "start_time = time.time()\n",
    "segments = transcribe(data_uri)\n",
    "print('Time:', time.time() - start_time)\n",
    "print(segments)"
   ]
  },
  {
   "cell_type": "code",
   "execution_count": null,
   "metadata": {},
   "outputs": [
    {
     "name": "stdout",
     "output_type": "stream",
     "text": [
      "Time: 6.580352783203125e-05\n",
      "示例 1：\n",
      "原文本：和蓉。是您來關注這起嫌犯開贓車撞死巡路員的的的的...的的的...的的的...的的的...的的的...的的的...的的的...的的的...的的的...的的的...的的的...的的的...的的的...的的的...的的的...的的的...的的的...的的的...的的的...的的的...的的的...的的的...的的的...的的的...的的的...的的的\n",
      "处理后：和蓉。是您來關注這起嫌犯開贓車撞死巡路員的的的的...\n",
      "\n",
      "Time: 2.7894973754882812e-05\n",
      "示例 2：\n",
      "原文本：而同一時間掀掀的掀掀的掀掀的掀掀的掀掀的掀掀的掀掀的掀掀的掀掀的掀掀\n",
      "处理后：而同一時間掀掀的\n",
      "\n",
      "Time: 1.1920928955078125e-05\n",
      "示例 3：\n",
      "原文本：悲劇事件就在今天下午的就在今天下午的就在今天下午的就在今天下午的就在今天下午的就在今天下午的就在今天下午的就在今天下午的就在今天下午的就在今天下午的就在今天下午的就在今天下午的就在今天下午的就在今天下午的就在今天下午的就在今天下午的就在今天下午的就在今天下午的就在今天下午的就在今天下午的就在今天下午的就在今天下午的就在今天下午的就在今天下午的就在今天下午的就在今天下午的就在今天下午的就在今天下午的就在今天下午的就在今天下午的就在今天下午的就在\n",
      "处理后：悲劇事件就在今天下午的\n",
      "\n"
     ]
    }
   ],
   "source": [
    "import re\n",
    "import time\n",
    "\n",
    "def remove_repeated_phrases(text):\n",
    "    # 移除句子末尾的空白字符\n",
    "    text = text.rstrip()\n",
    "\n",
    "    max_phrase_length = 30  # 最大短语长度，可根据需要调整\n",
    "    min_repeats = 5  # 最小重复次数\n",
    "\n",
    "    # 获取文本长度\n",
    "    text_length = len(text)\n",
    "\n",
    "    # 计算可能的最大短语长度，防止越界\n",
    "    max_possible_length = min(max_phrase_length, text_length // min_repeats)\n",
    "\n",
    "    # 从短语长度为 1 开始，逐渐增加\n",
    "    for phrase_length in range(1, max_possible_length + 1):\n",
    "        # 获取末尾的短语\n",
    "        phrase = text[-phrase_length:]\n",
    "        # 构建重复的短语\n",
    "        repeated_phrase = phrase * min_repeats\n",
    "        # 检查文本是否以重复的短语结尾\n",
    "        if text.endswith(repeated_phrase):\n",
    "            # 使用正则表达式查找重复的部分\n",
    "            pattern = f'({re.escape(phrase)}){{{min_repeats},}}$'\n",
    "            match = re.search(pattern, text)\n",
    "            if match:\n",
    "                # 将重复的部分替换为单个短语\n",
    "                text = text[:match.start()] + ''\n",
    "                ntlen = len(text)\n",
    "                plen = len(phrase)\n",
    "                index = None\n",
    "                for i in range(0, plen):\n",
    "                    if(text[ntlen-i-1] == phrase[plen-i-1]):\n",
    "                        index = i\n",
    "                        continue\n",
    "                    else:\n",
    "                        break\n",
    "                if(index != None):\n",
    "                    text = text+phrase[:-index-1]\n",
    "                return text\n",
    "\n",
    "    # 如果未找到重复的短语，返回原文本\n",
    "    return text\n",
    "\n",
    "# 示例文本\n",
    "texts = [\n",
    "    \"和蓉。是您來關注這起嫌犯開贓車撞死巡路員的的的的...的的的...的的的...的的的...的的的...的的的...的的的...的的的...的的的...的的的...的的的...的的的...的的的...的的的...的的的...的的的...的的的...的的的...的的的...的的的...的的的...的的的...的的的...的的的...的的的...的的的\",\n",
    "    \"而同一時間掀掀的掀掀的掀掀的掀掀的掀掀的掀掀的掀掀的掀掀的掀掀的掀掀\",\n",
    "    \"悲劇事件就在今天下午的就在今天下午的就在今天下午的就在今天下午的就在今天下午的就在今天下午的就在今天下午的就在今天下午的就在今天下午的就在今天下午的就在今天下午的就在今天下午的就在今天下午的就在今天下午的就在今天下午的就在今天下午的就在今天下午的就在今天下午的就在今天下午的就在今天下午的就在今天下午的就在今天下午的就在今天下午的就在今天下午的就在今天下午的就在今天下午的就在今天下午的就在今天下午的就在今天下午的就在今天下午的就在今天下午的就在\"\n",
    "]\n",
    "\n",
    "# 测试代码\n",
    "for idx, text in enumerate(texts, 1):\n",
    "    start_time = time.time()\n",
    "    result = remove_repeated_phrases(text)\n",
    "    print('Time:', time.time() - start_time)\n",
    "    print(f\"示例 {idx}：\\n原文本：{text}\\n处理后：{result}\\n\")"
   ]
  },
  {
   "cell_type": "code",
   "execution_count": 27,
   "metadata": {},
   "outputs": [
    {
     "name": "stdout",
     "output_type": "stream",
     "text": [
      "把你 配給所有台灣人的感受的 基本檢驗到了的時候\n"
     ]
    }
   ],
   "source": [
    "import re\n",
    "\n",
    "pattern = r'(?:\\d+(?:,{1,2}\\d+)?\\s*->\\s*)+\\d+(?:,{1,2}\\d+)?'\n",
    "text = '把你0,000 -> 00,673 配給所有台灣人的感受的00,723 -> 04,,008 基本檢驗到了的時候'\n",
    "\n",
    "text = re.sub(pattern, r'', text)\n",
    "print(text)"
   ]
  }
 ],
 "metadata": {
  "kernelspec": {
   "display_name": "base",
   "language": "python",
   "name": "python3"
  },
  "language_info": {
   "codemirror_mode": {
    "name": "ipython",
    "version": 3
   },
   "file_extension": ".py",
   "mimetype": "text/x-python",
   "name": "python",
   "nbconvert_exporter": "python",
   "pygments_lexer": "ipython3",
   "version": "3.12.7"
  }
 },
 "nbformat": 4,
 "nbformat_minor": 2
}
